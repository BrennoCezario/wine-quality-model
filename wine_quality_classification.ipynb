{
 "cells": [
  {
   "cell_type": "code",
   "execution_count": 2,
   "id": "ee053a9b",
   "metadata": {},
   "outputs": [
    {
     "name": "stdout",
     "output_type": "stream",
     "text": [
      "Amostra de 5 dados do dataset qualidade vinho:\n",
      "\n",
      "      Acidez fixa  Acidez volátil  Ácido cítrico  Açúcar residual  Cloretos  \\\n",
      "3590          6.6           0.190           0.35              1.5     0.037   \n",
      "1659          6.6           0.325           0.49              7.7     0.049   \n",
      "960           7.3           0.240           0.34             15.4     0.050   \n",
      "2710          7.8           0.250           0.34             13.7     0.044   \n",
      "1164          8.2           0.230           0.49              0.9     0.057   \n",
      "\n",
      "      Dióxido de enxofre livre  Dióxido de enxofre total  Densidade    pH  \\\n",
      "3590                      37.0                     107.0    0.99006  3.18   \n",
      "1659                      53.0                     217.0    0.99600  3.16   \n",
      "960                       38.0                     174.0    0.99830  3.03   \n",
      "2710                      66.0                     184.0    0.99976  3.22   \n",
      "1164                      15.0                      73.0    0.99280  3.07   \n",
      "\n",
      "      Sulfatos  Álcool  Qualidade  \n",
      "3590      0.68    12.0          7  \n",
      "1659      0.40     9.3          5  \n",
      "960       0.42     9.0          6  \n",
      "2710      0.75     8.9          5  \n",
      "1164      0.38    10.4          6  \n",
      "\n",
      " Legenda de qualidade do vinho:\n",
      " 3 e 4 = Ruim\n",
      " 5 e 6 = Médio\n",
      " 7 e 8 = Bom\n",
      " 9 e 10 = Excelente\n",
      "\n"
     ]
    }
   ],
   "source": [
    "import numpy as np\n",
    "import pandas as pd\n",
    "\n",
    "feature_translation = {\n",
    "    'fixed acidity': 'Acidez fixa',\n",
    "    'volatile acidity': 'Acidez volátil',\n",
    "    'citric acid': 'Ácido cítrico',\n",
    "    'residual sugar': 'Açúcar residual',\n",
    "    'chlorides': 'Cloretos',\n",
    "    'free sulfur dioxide': 'Dióxido de enxofre livre',\n",
    "    'total sulfur dioxide': 'Dióxido de enxofre total',\n",
    "    'density': 'Densidade',\n",
    "    'pH': 'pH',\n",
    "    'sulphates': 'Sulfatos',\n",
    "    'alcohol': 'Álcool',\n",
    "    'quality': 'Qualidade'\n",
    "}\n",
    "\n",
    "dataset = \"winequality-\" + input(f\"Escolha um dataset ('red' ou 'white'): \") + \".csv\"\n",
    "df = pd.read_csv(f\"data/{dataset}\", sep=';')\n",
    "\n",
    "df.rename(columns=feature_translation, inplace=True) # Renomeia as colunas para português\n",
    "\n",
    "X = df.drop(['Qualidade'], axis=1).values\n",
    "Y = df['Qualidade'].values\n",
    "\n",
    "# 2 - Apresentar os dados do dataset wine utilizando a biblioteca pandas para criar um dataframe\n",
    "\n",
    "show_df = df.sample(frac = 1) # Embaralha as linhas do DataFrame\n",
    "\n",
    "print(\"Amostra de 5 dados do dataset qualidade vinho:\\n\")\n",
    "print(show_df.head()) # Exibe os 5 primeiros dados do dataframe df\n",
    "print(\"\\n Legenda de qualidade do vinho:\\n 3 e 4 = Ruim\\n 5 e 6 = Médio\\n 7 e 8 = Bom\\n 9 e 10 = Excelente\\n\")"
   ]
  }
 ],
 "metadata": {
  "kernelspec": {
   "display_name": "Python 3",
   "language": "python",
   "name": "python3"
  },
  "language_info": {
   "codemirror_mode": {
    "name": "ipython",
    "version": 3
   },
   "file_extension": ".py",
   "mimetype": "text/x-python",
   "name": "python",
   "nbconvert_exporter": "python",
   "pygments_lexer": "ipython3",
   "version": "3.10.0"
  }
 },
 "nbformat": 4,
 "nbformat_minor": 5
}
